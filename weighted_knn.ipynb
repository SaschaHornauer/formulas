{
 "cells": [
  {
   "cell_type": "markdown",
   "metadata": {},
   "source": [
    "$K \\quad \\mbox{Number of Nearest Neighbors}$"
   ]
  },
  {
   "cell_type": "markdown",
   "metadata": {},
   "source": [
    "$\\mathcal{N}_K \\quad \\mbox{Top Nearest Neighbors}$"
   ]
  },
  {
   "cell_type": "markdown",
   "metadata": {},
   "source": [
    "$v_i \\quad \\mbox{Train Features}$"
   ]
  },
  {
   "cell_type": "markdown",
   "metadata": {},
   "source": [
    "$\\hat{x} \\quad \\mbox {Test Instance}$"
   ]
  },
  {
   "cell_type": "markdown",
   "metadata": {},
   "source": [
    "$\\hat{\\bf{f}} = f_{\\Theta}(\\hat{x}) \\quad \\mbox{Feature of Test Instance}$"
   ]
  },
  {
   "cell_type": "markdown",
   "metadata": {},
   "source": [
    "$s_i = \\cos(v_i,\\hat{\\bf{f}}) \\in [-1,1] \\quad \\mbox{Cosine Similarity}$"
   ]
  },
  {
   "cell_type": "markdown",
   "metadata": {},
   "source": [
    "$\\alpha_i = \\exp{(s_i/\\tau)} \\quad \\mbox{Contributing Weight of Neighbor}\\quad x_i$"
   ]
  },
  {
   "cell_type": "markdown",
   "metadata": {},
   "source": [
    "$m_i \\quad \\mbox{Label (R. Magnitude) of Neighbor i}$"
   ]
  },
  {
   "cell_type": "markdown",
   "metadata": {},
   "source": [
    "$\\hat{m} = \\sum_{i \\in \\mathcal{N}_K}(\\alpha_i \\cdot m_i) / \\sum_{i \\in \\mathcal{N}_K}\\alpha_i \\quad \\mbox{Final Predicted R. Magnitude}$"
   ]
  },
  {
   "cell_type": "code",
   "execution_count": null,
   "metadata": {},
   "outputs": [],
   "source": []
  }
 ],
 "metadata": {
  "kernelspec": {
   "display_name": "Python 3",
   "language": "python",
   "name": "python3"
  },
  "language_info": {
   "codemirror_mode": {
    "name": "ipython",
    "version": 3
   },
   "file_extension": ".py",
   "mimetype": "text/x-python",
   "name": "python",
   "nbconvert_exporter": "python",
   "pygments_lexer": "ipython3",
   "version": "3.5.2"
  }
 },
 "nbformat": 4,
 "nbformat_minor": 4
}
